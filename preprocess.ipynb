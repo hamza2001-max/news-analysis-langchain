{
 "cells": [
  {
   "cell_type": "code",
   "execution_count": null,
   "metadata": {},
   "outputs": [],
   "source": [
    "import os;\n",
    "from langchain_google_genai import GoogleGenerativeAI;\n",
    "from langchain.chains import RetrievalQA;\n",
    "from langchain.document_loaders import UnstructuredURLLoader;\n",
    "from langchain_google_genai import GoogleGenerativeAIEmbeddings;\n",
    "from langchain.vectorstores import FAISS;\n",
    "from langchain.text_splitter import RecursiveCharacterTextSplitter;\n",
    "from dotenv import load_dotenv"
   ]
  },
  {
   "cell_type": "code",
   "execution_count": null,
   "metadata": {},
   "outputs": [],
   "source": [
    "load_dotenv('.env')\n",
    "API_KEY = os.environ['API_KEY']\n",
    "llm = GoogleGenerativeAI(model=\"models/text-bison-001\", google_api_key=API_KEY, temperature=0.9, max_output_tokens=500);"
   ]
  },
  {
   "cell_type": "code",
   "execution_count": null,
   "metadata": {},
   "outputs": [],
   "source": [
    "loaders = UnstructuredURLLoader(\n",
    "    urls = [\n",
    "        \"https://www.moneycontrol.com/news/business/banks/hdfc-bank-re-appoints-sanmoy-chakrabarti-as-chief-risk-officer-11259771.html\",\n",
    "        \"https://www.moneycontrol.com/news/business/markets/market-corrects-post-rbi-ups-inflation-forecast-icrr-bet-on-these-top-10-rate-sensitive-stocks-ideas-11142611.html\"\n",
    "    ]\n",
    ");\n",
    "data = loaders.load();\n",
    "text_splitters = RecursiveCharacterTextSplitter(\n",
    "    chunk_size = 1000,\n",
    "    chunk_overlap = 300\n",
    ");\n",
    "doc = text_splitters.split_documents(data);"
   ]
  },
  {
   "cell_type": "code",
   "execution_count": null,
   "metadata": {},
   "outputs": [],
   "source": [
    "embeddings = GoogleGenerativeAIEmbeddings(model=\"models/embedding-001\", google_api_key=API_KEY);\n",
    "vector_index = FAISS.from_documents(doc, embeddings);\n",
    "vector_index.save_local(\"faiss_index\");"
   ]
  },
  {
   "cell_type": "code",
   "execution_count": null,
   "metadata": {},
   "outputs": [],
   "source": [
    "chain = RetrievalQA.from_chain_type(llm=llm, chain_type=\"stuff\", retriever=vector_index.as_retriever(), input_key=\"query\", return_source_documents=True);\n",
    "query = \"What is the theme of the articles provided?\"\n",
    "chain(query)"
   ]
  }
 ],
 "metadata": {
  "kernelspec": {
   "display_name": "nlp_env",
   "language": "python",
   "name": "python3"
  },
  "language_info": {
   "codemirror_mode": {
    "name": "ipython",
    "version": 3
   },
   "file_extension": ".py",
   "mimetype": "text/x-python",
   "name": "python",
   "nbconvert_exporter": "python",
   "pygments_lexer": "ipython3",
   "version": "3.12.4"
  }
 },
 "nbformat": 4,
 "nbformat_minor": 2
}
